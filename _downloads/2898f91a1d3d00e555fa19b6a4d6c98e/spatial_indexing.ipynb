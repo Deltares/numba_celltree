{
  "cells": [
    {
      "cell_type": "code",
      "execution_count": null,
      "metadata": {
        "collapsed": false
      },
      "outputs": [],
      "source": [
        "%matplotlib inline"
      ]
    },
    {
      "cell_type": "markdown",
      "metadata": {},
      "source": [
        "\n# Spatial indexing\n\nThe goal of a cell tree is to quickly locate cells of an unstructured mesh.\nUnstructured meshes are challenging in this regard: for a given point, we\ncannot simply compute a row and column number as we would for structured data\nsuch as rasters. The most straightforward procedure is checking every single\ncell, until we find the cell which contains the point we're looking for. This\nis clearly not efficient.\n\nA cell tree is bounding volume hierarchy (BVH) which may be used as a spatial\nindex. A spatial index is a data structure to search a spatial object\nefficiently, without exhaustively checking every cell. The implementation in\n``numba_celltree`` provides four ways to search the tree:\n\n* Locating single points\n* Locating bounding boxes\n* Locating convex polygons (e.g. cells of another mesh)\n* Locating line segments\n\nThis example provides a basic introduction to searching a cell tree for each of\nthese.\n\nWe'll start by importing the required packages with matplotlib for plotting.\nWe will use ``meshzoo`` to create some examples meshes.\n"
      ]
    },
    {
      "cell_type": "code",
      "execution_count": null,
      "metadata": {
        "collapsed": false
      },
      "outputs": [],
      "source": [
        "import os\n\nos.environ[\"NUMBA_DISABLE_JIT\"] = \"1\"  # small examples, avoid JIT overhead\n\nimport matplotlib.pyplot as plt\nimport meshzoo\nimport numpy as np\nfrom matplotlib.collections import LineCollection\n\nfrom numba_celltree import CellTree2d, demo"
      ]
    },
    {
      "cell_type": "markdown",
      "metadata": {},
      "source": [
        "Let's go easy for a start with a rectangular mesh:\n\n"
      ]
    },
    {
      "cell_type": "code",
      "execution_count": null,
      "metadata": {
        "collapsed": false
      },
      "outputs": [],
      "source": [
        "lower_left = (0.0, 0.0)\nupper_right = (10.0, 10.0)\nvertices, faces = meshzoo.rectangle_quad(lower_left, upper_right, n=10)"
      ]
    },
    {
      "cell_type": "markdown",
      "metadata": {},
      "source": [
        "Determine the edges of the cells, and plot them.\n\n"
      ]
    },
    {
      "cell_type": "code",
      "execution_count": null,
      "metadata": {
        "collapsed": false
      },
      "outputs": [],
      "source": [
        "node_x, node_y = vertices.transpose()\nedges = demo.edges(faces, -1)\n\nfig, ax = plt.subplots()\ndemo.plot_edges(node_x, node_y, edges, ax, color=\"black\")"
      ]
    },
    {
      "cell_type": "markdown",
      "metadata": {},
      "source": [
        "## Locating points\n\nWe'll build a cell tree first, then look for some points.\n\n"
      ]
    },
    {
      "cell_type": "code",
      "execution_count": null,
      "metadata": {
        "collapsed": false
      },
      "outputs": [],
      "source": [
        "tree = CellTree2d(vertices, faces)\npoints = np.array(\n    [\n        [-5.0, 1.0],\n        [4.5, 2.5],\n        [6.5, 4.5],\n    ]\n)\ni = tree.locate_points(points)\ni"
      ]
    },
    {
      "cell_type": "markdown",
      "metadata": {},
      "source": [
        "These numbers are the cell numbers in which we can find the points.\n\nA value of -1 means that a point is not located in any cell.\n\nLet's get rid of the -1 values, and take a look which cells have been found.\nWe'll color the found cells blue, and we'll draw the nodes to compare.\n\n"
      ]
    },
    {
      "cell_type": "code",
      "execution_count": null,
      "metadata": {
        "collapsed": false
      },
      "outputs": [],
      "source": [
        "i = i[i != -1]\n\nfig, ax = plt.subplots()\nax.scatter(*points.transpose())\ndemo.plot_edges(node_x, node_y, edges, ax, color=\"black\")\ndemo.plot_edges(node_x, node_y, demo.edges(faces[i], -1), ax, color=\"blue\", linewidth=3)"
      ]
    },
    {
      "cell_type": "markdown",
      "metadata": {},
      "source": [
        "Now let's try a more exotic example.\n\n"
      ]
    },
    {
      "cell_type": "code",
      "execution_count": null,
      "metadata": {
        "collapsed": false
      },
      "outputs": [],
      "source": [
        "vertices, faces = meshzoo.disk(5, 5)\nvertices += 1.0\nvertices *= 5.0\nnode_x, node_y = vertices.transpose()\nedges = demo.edges(faces, -1)\n\nfig, ax = plt.subplots()\ndemo.plot_edges(node_x, node_y, edges, ax, color=\"black\")"
      ]
    },
    {
      "cell_type": "markdown",
      "metadata": {},
      "source": [
        "There are certainly no rows or columns to speak of!\n\nLet's build a new tree, and look for the same points as before.\n\n"
      ]
    },
    {
      "cell_type": "code",
      "execution_count": null,
      "metadata": {
        "collapsed": false
      },
      "outputs": [],
      "source": [
        "tree = CellTree2d(vertices, faces)\ni = tree.locate_points(points)\ni = i[i != -1]\n\nfig, ax = plt.subplots()\nax.scatter(*points.transpose())\ndemo.plot_edges(node_x, node_y, edges, ax, color=\"black\")\ndemo.plot_edges(node_x, node_y, demo.edges(faces[i], -1), ax, color=\"blue\", linewidth=3)"
      ]
    },
    {
      "cell_type": "markdown",
      "metadata": {},
      "source": [
        "It should be clear by now that a point may only fall into a single cell. A\npoint may also be out of bounds. If a cell falls exactly on an edge, one of the\ntwo neighbors will be chosen arbitrarily. At any rate, we can always expect\none answer per cell.\n\nThis is not the case for line segments, bounding boxes, or convex polygons: a\nline may intersect multiple cells, and a bounding box or polygon may contain\nmultiple cells.\n\n## Locating bounding boxes\n\nA search of N points will yield N answers (cell numbers). A search of N boxes\nmay yield M answers. To illustrate, let's look for all the cells inside of\na box.\n\n"
      ]
    },
    {
      "cell_type": "code",
      "execution_count": null,
      "metadata": {
        "collapsed": false
      },
      "outputs": [],
      "source": [
        "box_coords = np.array(\n    [\n        [4.0, 8.0, 4.0, 6.0],  # xmin, xmax, ymin, ymax\n    ]\n)\nbox_i, cell_i = tree.locate_boxes(box_coords)\n\nfig, ax = plt.subplots()\ndemo.plot_edges(node_x, node_y, edges, ax, color=\"black\")\ndemo.plot_edges(\n    node_x, node_y, demo.edges(faces[cell_i], -1), ax, color=\"blue\", linewidth=2\n)\ndemo.plot_boxes(box_coords, ax, color=\"red\", linewidth=3)"
      ]
    },
    {
      "cell_type": "markdown",
      "metadata": {},
      "source": [
        "We can also search for multiple boxes:\n\n"
      ]
    },
    {
      "cell_type": "code",
      "execution_count": null,
      "metadata": {
        "collapsed": false
      },
      "outputs": [],
      "source": [
        "box_coords = np.array(\n    [\n        [4.0, 8.0, 4.0, 6.0],\n        [0.0, 8.0, 8.0, 10.0],\n        [10.0, 13.0, 2.0, 8.0],\n    ]\n)\nbox_i, cell_i = tree.locate_boxes(box_coords)\nbox_i, cell_i"
      ]
    },
    {
      "cell_type": "markdown",
      "metadata": {},
      "source": [
        "Note that this method returns two arrays of equal length. The second array\ncontains the cell numbers, as usual. The first array contains the index of\nthe bounding box in which the respective cells fall. Note that there are only\ntwo numbers in ``box_i``: there are no cells located in the third box, as we\ncan confirm visually:\n\n"
      ]
    },
    {
      "cell_type": "code",
      "execution_count": null,
      "metadata": {
        "collapsed": false
      },
      "outputs": [],
      "source": [
        "cells_0 = cell_i[box_i == 0]\ncells_1 = cell_i[box_i == 1]\n\nfig, ax = plt.subplots()\ndemo.plot_edges(node_x, node_y, edges, ax, color=\"black\")\ndemo.plot_edges(\n    node_x, node_y, demo.edges(faces[cells_0], -1), ax, color=\"blue\", linewidth=2\n)\ndemo.plot_edges(\n    node_x, node_y, demo.edges(faces[cells_1], -1), ax, color=\"green\", linewidth=2\n)\ndemo.plot_boxes(box_coords, ax, color=\"red\", linewidth=3)"
      ]
    },
    {
      "cell_type": "markdown",
      "metadata": {},
      "source": [
        "## Locating cells\n\nSimilarly, we can look for other cells (convex polygons):\n\n"
      ]
    },
    {
      "cell_type": "code",
      "execution_count": null,
      "metadata": {
        "collapsed": false
      },
      "outputs": [],
      "source": [
        "triangle_vertices = np.array(\n    [\n        [5.0, 3.0],\n        [7.0, 3.0],\n        [7.0, 5.0],\n        [0.0, 6.0],\n        [4.0, 4.0],\n        [6.0, 10.0],\n    ]\n)\ntriangles = np.array(\n    [\n        [0, 1, 2],\n        [3, 4, 5],\n    ]\n)\ntri_x, tri_y = triangle_vertices.transpose()\n\ntri_i, cell_i = tree.locate_faces(triangle_vertices, triangles, -1)\ncells_0 = cell_i[tri_i == 0]\ncells_1 = cell_i[tri_i == 1]\n\nfig, ax = plt.subplots()\ndemo.plot_edges(node_x, node_y, edges, ax, color=\"black\")\ndemo.plot_edges(\n    node_x, node_y, demo.edges(faces[cells_0], -1), ax, color=\"blue\", linewidth=2\n)\ndemo.plot_edges(\n    node_x, node_y, demo.edges(faces[cells_1], -1), ax, color=\"green\", linewidth=2\n)\ndemo.plot_edges(tri_x, tri_y, demo.edges(triangles, -1), ax, color=\"red\", linewidth=3)"
      ]
    },
    {
      "cell_type": "markdown",
      "metadata": {},
      "source": [
        "We can also compute how large the overlap is:\n\n"
      ]
    },
    {
      "cell_type": "code",
      "execution_count": null,
      "metadata": {
        "collapsed": false
      },
      "outputs": [],
      "source": [
        "tri_i, cell_i, area = tree.intersect_faces(triangle_vertices, triangles, -1)\narea"
      ]
    },
    {
      "cell_type": "markdown",
      "metadata": {},
      "source": [
        "Let's color the faces of the mesh by their proportion of overlap. Because our\nmesh is triangular, we can represent the triangles as two collections of\nvectors (V, U). Then the area is half of the absolute value of the cross\nproduct of U and V.\n\n"
      ]
    },
    {
      "cell_type": "code",
      "execution_count": null,
      "metadata": {
        "collapsed": false
      },
      "outputs": [],
      "source": [
        "intersection_faces = faces[cell_i]\nintersection_vertices = vertices[intersection_faces]\nU = intersection_vertices[:, 1] - intersection_vertices[:, 0]\nV = intersection_vertices[:, 2] - intersection_vertices[:, 0]\nfull_area = 0.5 * np.abs(np.cross(V, U))\nproportion = area / full_area\n\nfig, ax = plt.subplots()\ncolored = ax.tripcolor(\n    node_x,\n    node_y,\n    intersection_faces,\n    proportion,\n)\nfig.colorbar(colored)\ndemo.plot_edges(node_x, node_y, edges, ax, color=\"black\")\ndemo.plot_edges(tri_x, tri_y, demo.edges(triangles, -1), ax, color=\"red\", linewidth=3)"
      ]
    },
    {
      "cell_type": "markdown",
      "metadata": {},
      "source": [
        "## Locating lines\n\nAs a final example, we will compute the intersections with two lines (edges).\nThis returns three arrays of equal length:\n\n* the index of the line\n* the index of the cell\n* the location of the intersections\n\n"
      ]
    },
    {
      "cell_type": "code",
      "execution_count": null,
      "metadata": {
        "collapsed": false
      },
      "outputs": [],
      "source": [
        "edge_coords = np.array(\n    [\n        [[0.0, 0.0], [10.0, 10.0]],\n        [[0.0, 10.0], [10.0, 0.0]],\n    ]\n)\nedge_i, cell_i, intersections = tree.intersect_edges(edge_coords)\nedge_i, cell_i"
      ]
    },
    {
      "cell_type": "markdown",
      "metadata": {},
      "source": [
        "To wrap up, we'll color the intersect faces with the length of the\nintersected line segments. We can easily compute the length of each segment\nwith the Euclidian norm (Pythagorean distance):\n\n"
      ]
    },
    {
      "cell_type": "code",
      "execution_count": null,
      "metadata": {
        "collapsed": false
      },
      "outputs": [],
      "source": [
        "length = np.linalg.norm(intersections[:, 1] - intersections[:, 0], axis=1)\n\nfig, ax = plt.subplots()\ncolored = ax.tripcolor(\n    node_x,\n    node_y,\n    faces[cell_i],\n    length,\n)\nfig.colorbar(colored)\nax.add_collection(LineCollection(edge_coords, color=\"red\", linewidth=3))\ndemo.plot_edges(node_x, node_y, edges, ax, color=\"black\")"
      ]
    }
  ],
  "metadata": {
    "kernelspec": {
      "display_name": "Python 3",
      "language": "python",
      "name": "python3"
    },
    "language_info": {
      "codemirror_mode": {
        "name": "ipython",
        "version": 3
      },
      "file_extension": ".py",
      "mimetype": "text/x-python",
      "name": "python",
      "nbconvert_exporter": "python",
      "pygments_lexer": "ipython3",
      "version": "3.9.6"
    }
  },
  "nbformat": 4,
  "nbformat_minor": 0
}