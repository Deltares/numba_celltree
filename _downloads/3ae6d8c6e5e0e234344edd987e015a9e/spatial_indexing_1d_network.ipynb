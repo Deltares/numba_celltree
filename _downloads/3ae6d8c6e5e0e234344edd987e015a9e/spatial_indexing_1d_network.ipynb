{
  "cells": [
    {
      "cell_type": "markdown",
      "metadata": {},
      "source": [
        "\n# Spatial indexing of 1D networks and linear geometry\n\nThis example demonstrates how to use the ``numba_celltree`` package to index 1D\ngrids. The package provides a :class:`EdgeCellTree` class that constructs a\ncell tree for 1D networks and linear geometries. The package currently supports\nthe following operations:\n\n* Locating points\n* Locating line segments\n\nThis example provides an introduction to searching a cell tree for each of\nthese.\n\nWe'll start by importing the required packages with matplotlib for plotting.\n"
      ]
    },
    {
      "cell_type": "code",
      "execution_count": null,
      "metadata": {
        "collapsed": false
      },
      "outputs": [],
      "source": [
        "import os\n\nimport matplotlib.pyplot as plt\nimport numpy as np\nfrom matplotlib.collections import LineCollection\n\nos.environ[\"NUMBA_DISABLE_JIT\"] = \"1\"  # small examples, avoid JIT overhead\nfrom numba_celltree import EdgeCellTree2d, demo  # noqa E402"
      ]
    },
    {
      "cell_type": "markdown",
      "metadata": {},
      "source": [
        "Let's start with a simple 1D network.\n\n"
      ]
    },
    {
      "cell_type": "code",
      "execution_count": null,
      "metadata": {
        "collapsed": false
      },
      "outputs": [],
      "source": [
        "vertices, edges = demo.example_1d_network()\n\nnode_x = vertices.T[0]\nnode_y = vertices.T[1]\n\nfig, ax = plt.subplots()\ndemo.plot_edges(node_x, node_y, edges, ax, color=\"black\")"
      ]
    },
    {
      "cell_type": "markdown",
      "metadata": {},
      "source": [
        "## Locating points\n\nWe'll build a cell tree first, then look for some points.\n\n"
      ]
    },
    {
      "cell_type": "code",
      "execution_count": null,
      "metadata": {
        "collapsed": false
      },
      "outputs": [],
      "source": [
        "tree = EdgeCellTree2d(vertices, edges)\npoints = np.array(\n    [\n        [0.25, 1.5],\n        [0.75, 1.5],\n        [2.0, 1.5],  # This one is outside the grid\n    ]\n)\ni = tree.locate_points(points)\ni"
      ]
    },
    {
      "cell_type": "markdown",
      "metadata": {},
      "source": [
        "This returns the indices of the edges that contain each point, with -1\nindicating points outside the network. We'll have to filter those out first.\nLet's plot them:\n\n"
      ]
    },
    {
      "cell_type": "code",
      "execution_count": null,
      "metadata": {
        "collapsed": false
      },
      "outputs": [],
      "source": [
        "ii = i[i != -1]\n\nfig, ax = plt.subplots()\nax.scatter(*points.transpose())\ndemo.plot_edges(node_x, node_y, edges, ax, color=\"black\")\ndemo.plot_edges(node_x, node_y, edges[ii], ax, color=\"blue\", linewidth=3)"
      ]
    },
    {
      "cell_type": "markdown",
      "metadata": {},
      "source": [
        "## Locating line segments\n\nLet's locate some line segments on the grid. We'll start off with creating\nsome line segments.\n\n"
      ]
    },
    {
      "cell_type": "code",
      "execution_count": null,
      "metadata": {
        "collapsed": false
      },
      "outputs": [],
      "source": [
        "segments = np.array(\n    [\n        [[0.0, 1.25], [1.5, 1.5]],\n        [[1.5, 1.5], [2.25, 3.5]],\n    ]\n)\n\nfig, ax = plt.subplots()\ndemo.plot_edges(node_x, node_y, edges, ax, color=\"black\")\nax.add_collection(LineCollection(segments, color=\"gray\", linewidth=3))"
      ]
    },
    {
      "cell_type": "markdown",
      "metadata": {},
      "source": [
        "Let's now intersect these line segments with the edges in the network.\n\n"
      ]
    },
    {
      "cell_type": "code",
      "execution_count": null,
      "metadata": {
        "collapsed": false
      },
      "outputs": [],
      "source": [
        "segment_index, tree_edge_index, xy_intersection = tree.intersect_edges(segments)\nxy_intersection"
      ]
    },
    {
      "cell_type": "markdown",
      "metadata": {},
      "source": [
        "The ``intersect_edges`` method returns three arrays: which input segments\nintersect with the network, which network edges they intersect with, and the\ncoordinates of each intersection point.\n\nLet's plot the results:\n\n"
      ]
    },
    {
      "cell_type": "code",
      "execution_count": null,
      "metadata": {
        "collapsed": false
      },
      "outputs": [],
      "source": [
        "fig, ax = plt.subplots()\ndemo.plot_edges(node_x, node_y, edges, ax, color=\"black\")\ndemo.plot_edges(node_x, node_y, edges[tree_edge_index], ax, color=\"blue\", linewidth=3)\nax.add_collection(LineCollection(segments, color=\"gray\", linewidth=3))\nax.scatter(*xy_intersection.transpose(), s=60, color=\"darkgreen\", zorder=2.5)"
      ]
    }
  ],
  "metadata": {
    "kernelspec": {
      "display_name": "Python 3",
      "language": "python",
      "name": "python3"
    },
    "language_info": {
      "codemirror_mode": {
        "name": "ipython",
        "version": 3
      },
      "file_extension": ".py",
      "mimetype": "text/x-python",
      "name": "python",
      "nbconvert_exporter": "python",
      "pygments_lexer": "ipython3",
      "version": "3.12.9"
    }
  },
  "nbformat": 4,
  "nbformat_minor": 0
}